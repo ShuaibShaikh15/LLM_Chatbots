{
 "cells": [
  {
   "cell_type": "code",
   "execution_count": 1,
   "metadata": {},
   "outputs": [],
   "source": [
    "from phi.agent import Agent\n",
    "from phi.model.groq import Groq\n",
    "from phi.tools.duckduckgo import DuckDuckGo\n",
    "from phi.tools.website import WebsiteTools\n",
    "from dotenv import load_dotenv\n",
    "import os\n",
    "load_dotenv()\n",
    "GROQ_API_KEY=os.getenv('GROQ_API_KEY')\n"
   ]
  },
  {
   "cell_type": "code",
   "execution_count": 2,
   "metadata": {},
   "outputs": [
    {
     "data": {
      "application/vnd.jupyter.widget-view+json": {
       "model_id": "f8bc5852a6674cb2b3163784b399889c",
       "version_major": 2,
       "version_minor": 0
      },
      "text/plain": [
       "Output()"
      ]
     },
     "metadata": {},
     "output_type": "display_data"
    },
    {
     "data": {
      "text/html": [
       "<pre style=\"white-space:pre;overflow-x:auto;line-height:normal;font-family:Menlo,'DejaVu Sans Mono',consolas,'Courier New',monospace\"></pre>\n"
      ],
      "text/plain": []
     },
     "metadata": {},
     "output_type": "display_data"
    }
   ],
   "source": [
    "\n",
    "web_agent = Agent(\n",
    "    name=\"Web Agent\",\n",
    "    model=Groq(id = 'llama-3.3-70b-versatile',\n",
    "               api_key=GROQ_API_KEY),\n",
    "    tools=[WebsiteTools(knowledge_base = True)],\n",
    "    instructions=[\"Always include sources\"],\n",
    "    show_tool_calls=True,\n",
    "    markdown=True,\n",
    ")\n",
    "web_agent.print_response('''Search web page: \"https://akshayakalpa.org/#\"''', markdown=True,stream = False)\n"
   ]
  },
  {
   "cell_type": "code",
   "execution_count": 3,
   "metadata": {},
   "outputs": [
    {
     "data": {
      "application/vnd.jupyter.widget-view+json": {
       "model_id": "a98b3f20cb5949fda8a4970419b6ac2d",
       "version_major": 2,
       "version_minor": 0
      },
      "text/plain": [
       "Output()"
      ]
     },
     "metadata": {},
     "output_type": "display_data"
    },
    {
     "data": {
      "text/html": [
       "<pre style=\"white-space:pre;overflow-x:auto;line-height:normal;font-family:Menlo,'DejaVu Sans Mono',consolas,'Courier New',monospace\"></pre>\n"
      ],
      "text/plain": []
     },
     "metadata": {},
     "output_type": "display_data"
    }
   ],
   "source": [
    "from phi.agent import Agent\n",
    "from phi.model.groq import Groq\n",
    "from phi.tools.duckduckgo import DuckDuckGo\n",
    "\n",
    "web_agent = Agent(\n",
    "    name=\"Web Agent\",\n",
    "    model=Groq(id = 'llama-3.3-70b-versatile',\n",
    "               api_key=GROQ_API_KEY),\n",
    "    tools=[DuckDuckGo(news=True, search = False)],\n",
    "    instructions=[\"Always include sources\"],\n",
    "    show_tool_calls=True,\n",
    "    markdown=True,\n",
    ")\n",
    "\n",
    "\n",
    "if __name__ == \"__main__\":\n",
    "    web_agent.print_response(\"Help me find new places\", stream=False)"
   ]
  },
  {
   "cell_type": "code",
   "execution_count": null,
   "metadata": {},
   "outputs": [],
   "source": []
  }
 ],
 "metadata": {
  "kernelspec": {
   "display_name": "base",
   "language": "python",
   "name": "python3"
  },
  "language_info": {
   "codemirror_mode": {
    "name": "ipython",
    "version": 3
   },
   "file_extension": ".py",
   "mimetype": "text/x-python",
   "name": "python",
   "nbconvert_exporter": "python",
   "pygments_lexer": "ipython3",
   "version": "3.11.3"
  }
 },
 "nbformat": 4,
 "nbformat_minor": 2
}
