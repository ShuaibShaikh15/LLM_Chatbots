{
 "cells": [
  {
   "cell_type": "code",
   "execution_count": 77,
   "metadata": {},
   "outputs": [],
   "source": [
    "import requests\n",
    "from bs4 import BeautifulSoup\n",
    "import psycopg2\n",
    "from psycopg2 import sql\n",
    "from dotenv import load_dotenv\n",
    "import os\n",
    "import time\n",
    "import pandas as pd\n",
    "import re"
   ]
  },
  {
   "cell_type": "code",
   "execution_count": 78,
   "metadata": {},
   "outputs": [
    {
     "data": {
      "text/plain": [
       "True"
      ]
     },
     "execution_count": 78,
     "metadata": {},
     "output_type": "execute_result"
    }
   ],
   "source": [
    "load_dotenv()"
   ]
  },
  {
   "cell_type": "code",
   "execution_count": 79,
   "metadata": {},
   "outputs": [],
   "source": [
    "DB_HOST = os.getenv(\"DB_HOST\")\n",
    "DB_PORT = os.getenv(\"DB_PORT\")\n",
    "DB_NAME = os.getenv(\"DB_NAME\")\n",
    "DB_USER = os.getenv(\"DB_USER\")\n",
    "DB_PASSWORD = os.getenv(\"DB_PASSWORD\")\n"
   ]
  },
  {
   "cell_type": "code",
   "execution_count": 80,
   "metadata": {},
   "outputs": [],
   "source": [
    "# function to crawl the website and get its content\n",
    "def crawl_website(url):\n",
    "    response = requests.get(url)\n",
    "    if response.status_code == 200:\n",
    "        return response.text\n",
    "    else:\n",
    "        raise Exception(f\"Failed to fetch the website. Status code: {response.status_code}\")\n"
   ]
  },
  {
   "cell_type": "code",
   "execution_count": 81,
   "metadata": {},
   "outputs": [],
   "source": [
    "def parse_website(content):\n",
    "    soup = BeautifulSoup(content, 'html.parser')\n",
    "    data = {\n",
    "        \"title\": soup.title.string if soup.title else None,\n",
    "        \"meta_description\": soup.find('meta', attrs={'name': 'description'})['content'] if soup.find('meta', attrs={'name': 'description'}) else None,\n",
    "        \"links\": [a['href'] for a in soup.find_all('a', href=True)]\n",
    "    }\n",
    "    return data"
   ]
  },
  {
   "cell_type": "code",
   "execution_count": 96,
   "metadata": {},
   "outputs": [
    {
     "name": "stdout",
     "output_type": "stream",
     "text": [
      "Data has been successfully stored in the database.\n"
     ]
    }
   ],
   "source": [
    "def extract_links(df):\n",
    "    link_pattern = r'https?://[^\\s,]+'\n",
    "    \n",
    "    # Ensure that we apply the regex only to strings\n",
    "    df['extracted_links'] = df['links'].apply(lambda x: re.findall(link_pattern, str(x)) if isinstance(x, str) else [])\n",
    "    \n",
    "    return df\n",
    "\n",
    "def split_links_into_rows(df):\n",
    "    link_pattern = r'https?://[^\\s,]+'\n",
    "    df['extracted_links'] = df['links'].apply(lambda x: re.findall(link_pattern, x))\n",
    "    df_exploded = df.explode('extracted_links', ignore_index=True)    \n",
    "    return df_exploded[['title', 'meta_description', 'extracted_links']]\n",
    "\n",
    "\n",
    "def store_data_in_db(data):\n",
    "    try:\n",
    "        conn = psycopg2.connect(\n",
    "            dbname=os.getenv('DB_NAME'),\n",
    "            user=os.getenv('DB_USER'),\n",
    "            password=os.getenv('DB_PASSWORD'),\n",
    "            host=os.getenv('DB_HOST'),\n",
    "            port=os.getenv('DB_PORT')\n",
    "        )\n",
    "        cursor = conn.cursor()\n",
    "\n",
    "        cursor.execute(''' \n",
    "            CREATE TABLE IF NOT EXISTS website_data (\n",
    "                id SERIAL PRIMARY KEY,\n",
    "                title TEXT,\n",
    "                meta_description TEXT,\n",
    "                links TEXT[] \n",
    "            );\n",
    "        ''')\n",
    "\n",
    "        title_list = data['title'].tolist()\n",
    "        meta_description_list = data['meta_description'].tolist()\n",
    "        links_list = data['extracted_links'].tolist()\n",
    "\n",
    "        for title, meta_description, links in zip(title_list, meta_description_list, links_list):\n",
    "            formatted_links = '{' + ','.join([f'\"{link}\"' for link in links]) + '}'\n",
    "\n",
    "            cursor.execute(''' \n",
    "                INSERT INTO website_data (title, meta_description, links) \n",
    "                VALUES (%s, %s, %s)\n",
    "            ''', (title, meta_description, formatted_links))\n",
    "\n",
    "        conn.commit()\n",
    "    except Exception as e:\n",
    "        print(f\"Error storing data in the database: {e}\")\n",
    "    finally:\n",
    "        cursor.close()\n",
    "        conn.close()\n",
    "\n",
    "if __name__ == \"__main__\":\n",
    "    url = \"https://akshayakalpa.org/\"\n",
    "\n",
    "    try:\n",
    "        website_content = crawl_website(url)\n",
    "        parsed_data = parse_website(website_content)\n",
    "        links_df = pd.DataFrame({'links': [parsed_data['links']]})\n",
    "        links_df['links'] = links_df['links'].apply(lambda x: ','.join(str(i) for i in x))\n",
    "        links_df = extract_links(links_df)\n",
    "        links_df['title'] = parsed_data['title']\n",
    "        links_df['meta_description'] = parsed_data['meta_description']\n",
    "        links_df_exploded = split_links_into_rows(links_df)\n",
    "        store_data_in_db(links_df_exploded)\n",
    "\n",
    "        print(\"Data has been successfully stored in the database.\")\n",
    "    except Exception as e:\n",
    "        print(f\"An error occurred: {e}\")\n"
   ]
  },
  {
   "cell_type": "code",
   "execution_count": 63,
   "metadata": {},
   "outputs": [],
   "source": []
  },
  {
   "cell_type": "code",
   "execution_count": null,
   "metadata": {},
   "outputs": [],
   "source": [
    "\n",
    "\n",
    "# Function to store data in PostgreSQL database\n",
    "\n"
   ]
  },
  {
   "cell_type": "markdown",
   "metadata": {},
   "source": []
  }
 ],
 "metadata": {
  "kernelspec": {
   "display_name": "base",
   "language": "python",
   "name": "python3"
  },
  "language_info": {
   "codemirror_mode": {
    "name": "ipython",
    "version": 3
   },
   "file_extension": ".py",
   "mimetype": "text/x-python",
   "name": "python",
   "nbconvert_exporter": "python",
   "pygments_lexer": "ipython3",
   "version": "3.7.0"
  }
 },
 "nbformat": 4,
 "nbformat_minor": 2
}
